{
 "cells": [
  {
   "cell_type": "code",
   "execution_count": 1,
   "metadata": {},
   "outputs": [],
   "source": [
    "from collections import defaultdict\n",
    "import numpy as np\n",
    "import scipy\n",
    "import scipy.sparse as sps\n",
    "import math\n",
    "import matplotlib.pyplot as plt\n",
    "import time\n",
    "from sklearn.datasets import load_svmlight_file\n",
    "import random\n",
    "%matplotlib inline"
   ]
  },
  {
   "cell_type": "markdown",
   "metadata": {
    "collapsed": true
   },
   "source": [
    "# Support Vector Machines\n",
    "## Classification Using SVM\n",
    "Le lien pour les données https://www.csie.ntu.edu.tw/~cjlin/libsvmtools/datasets/"
   ]
  },
  {
   "cell_type": "markdown",
   "metadata": {},
   "source": [
    "\n",
    "Le problème d'optimisation des SVM est donné par :\n",
    "\n",
    "$$\\min_{w \\in R^d} \\  \\sum_{i=1}^n \\ell(y_i A_i^\\top w) + \\frac\\lambda2 \\|w\\|^2$$\n",
    "\n",
    "Où $\\ell : R\\rightarrow R$, $\\ell(z) := \\max\\{0,1-z\\}$ est la fonction de perte hinge.\n",
    "\n",
    "Pour tout $i$, $1 \\leq i \\leq n$, le vecteur $A_i \\in \\mathbb{R}^d$ représente le $i$-ème exemple de données, et $y_i \\in {\\pm1}$ est l'étiquette correspondante.\n",
    "\n",
    "\n",
    "\n",
    "$$ \\max_{\\boldsymbol{\\alpha} \\in R^n } \\  \\alpha^\\top\\boldsymbol{1} - \\tfrac1{2\\lambda} \\alpha^\\top Y A A^\\top Y\\alpha\n",
    " \\text{    Tel que    $0\\le \\alpha_i \\le 1  \\ \\forall i$}$$\n",
    "  \n",
    "\n",
    "où $Y := \\mathop{\\text{diag}}(y)$, et $A \\in \\mathbb{R}^{n \\times d}$ contient les $n$ exemples de données en tant que colonnes.\n",
    "\n",
    "Il est à noter que $w$ peut être dérivé de $\\boldsymbol{\\alpha}$ comme suit :\n",
    "\\begin{equation}\n",
    "    w(\\alpha) = \\frac{1}{\\lambda} A^\\top Y \\alpha.\n",
    "\\end{equation}"
   ]
  },
  {
   "cell_type": "code",
   "execution_count": 2,
   "metadata": {},
   "outputs": [
    {
     "name": "stdout",
     "output_type": "stream",
     "text": [
      "(2477,) (2477, 300)\n"
     ]
    }
   ],
   "source": [
    "DATA_TRAIN_PATH = 'data/w1a'\n",
    "\n",
    "A, y = load_svmlight_file(DATA_TRAIN_PATH)\n",
    "A = A.toarray()\n",
    "print(y.shape, A.shape)"
   ]
  },
  {
   "cell_type": "markdown",
   "metadata": {},
   "source": [
    "## Calcul des fonction de coût et prédiction"
   ]
  },
  {
   "cell_type": "markdown",
   "metadata": {},
   "source": [
    "## Étapes de l'algorithme\n",
    "\n",
    "1. **Choisir un point de départ** $ \\mathbf{x}^{(0)} = (x_1^{(0)}, x_2^{(0)}, \\ldots, x_n^{(0)}) $\n",
    "2. **Répéter jusqu'à convergence** :\n",
    " - Pour chaque variable $ x_i $ (où $ i $ varie de 1 à $ n $) :\n",
    " 1. Fixer toutes les variables sauf $ x_i $\n",
    " 2. Minimiser la fonction $ f $ par rapport à $ x_i $ :\n",
    " $$\n",
    " x_i^{(k+1)} = \\arg \\min_{x_i} f(x_1^{(k)}, \\ldots, x_{i-1}^{(k)}, x_i, x_{i+1}^{(k)}, \\ldots, x_n^{(k)})\n",
    " $$\n",
    " 3. Mettre à jour $ x_i $ :\n",
    " $$\n",
    " \\mathbf{x}^{(k+1)} = (x_1^{(k)}, \\ldots, x_{i-1}^{(k)}, x_i^{(k+1)}, x_{i+1}^{(k)}, \\ldots, x_n^{(k)})\n",
    " $$\n",
    "3. **Vérifier la convergence** : Si $ \\|\\mathbf{x}^{(k+1)} - \\mathbf{x}^{(k)}\\| < \\epsilon $, arrêter l'algorithme.\n",
    "\n",
    "## Détails de la mise à jour\n",
    "\n",
    "- **Initialisation** : Choisir un point de départ $ \\mathbf{x}^{(0)} $\n",
    "- **Mise à jour pour chaque variable** :\n",
    " $$\n",
    " x_i^{(k+1)} = \\arg \\min_{x_i} f(x_1^{(k)}, \\ldots, x_{i-1}^{(k)}, x_i, x_{i+1}^{(k)}, \\ldots, x_n^{(k)})\n",
    " $$\n",
    "- **Critère d'arrêt** : \n",
    " $$\n",
    " \\|\\mathbf{x}^{(k+1)} - \\mathbf{x}^{(k)}\\| < \\epsilon\n",
    " $$\n",
    "\n",
    "## Exemple\n",
    "\n",
    "Supposons que nous voulons minimiser la fonction $ f(x, y) = x^2 + y^2 $.\n",
    "\n",
    "1. Choisir un point de départ $ (x^{(0)}, y^{(0)}) $\n",
    "2. Minimiser par rapport à $ x $ :\n",
    " $$\n",
    " x^{(k+1)} = \\arg \\min_x (x^2 + (y^{(k)})^2) = 0\n",
    " $$\n",
    "3. Minimiser par rapport à $ y $ :\n",
    " $$\n",
    " y^{(k+1)} = \\arg \\min_y ((x^{(k+1)})^2 + y^2) = 0\n",
    " $$\n",
    "4. Répéter jusqu'à convergence.\n",
    "\n",
    "## Mise à jour globale sous forme de gradient\n",
    "\n",
    "L'équation globale de mise à jour sous forme de gradient pour chaque variable $ x_i $ est donnée par :\n",
    "$$\n",
    "x_i^{(k+1)} = x_i^{(k)} - \\alpha \\frac{\\partial f}{\\partial x_i}(\\mathbf{x}^{(k)})\n",
    "$$\n",
    "où $ \\alpha $ est le taux d'apprentissage."
   ]
  },
  {
   "cell_type": "code",
   "execution_count": 5,
   "metadata": {},
   "outputs": [],
   "source": [
    "def hinge_loss(y, A, w):\n",
    "    \"\"\"The hinge loss formula\n",
    "\n",
    "    Args:\n",
    "        y (_type_): _description_\n",
    "        A (_type_): _description_\n",
    "        w (_type_): _description_\n",
    "\n",
    "    Returns:\n",
    "        _type_: _description_\n",
    "    \"\"\"\n",
    "    return np.maximum(1 - y * (A @ w), 0)"
   ]
  },
  {
   "cell_type": "code",
   "execution_count": 6,
   "metadata": {},
   "outputs": [],
   "source": [
    "def calculate_primal_objective(y, A, w, lambda_):\n",
    "    \"\"\"compute the full cost (the primal objective), that is loss plus regularizer.\n",
    "    A: the full dataset matrix, shape = (num_examples, num_features)\n",
    "    y: the corresponding +1 or -1 labels, shape = (num_examples)\n",
    "    w: shape = (num_features)\n",
    "    \"\"\"\n",
    "    v = hinge_loss(y, A, w)\n",
    "    return np.sum(v) + lambda_ / 2 * np.sum(w ** 2)"
   ]
  },
  {
   "cell_type": "code",
   "execution_count": 7,
   "metadata": {},
   "outputs": [],
   "source": [
    "def accuracy(y1, y2):\n",
    "    return np.mean(y1 == y2)\n",
    "\n",
    "def prediction(A, w):\n",
    "    return (A @ w > 0) * 2 - 1\n",
    "\n",
    "def calculate_accuracy(y, A, w):\n",
    "    \"\"\"compute the training accuracy on the training set (can be called for test set as well).\n",
    "    A: the full dataset matrix, shape = (num_examples, num_features)\n",
    "    y: the corresponding +1 or -1 labels, shape = (num_examples)\n",
    "    w: shape = (num_features)\n",
    "    \"\"\"\n",
    "    predicted_y = prediction(A, w)\n",
    "    return accuracy(predicted_y, y)"
   ]
  },
  {
   "cell_type": "markdown",
   "metadata": {},
   "source": [
    "## Coordinate Descent (Ascent) for SVM"
   ]
  },
  {
   "cell_type": "code",
   "execution_count": 14,
   "metadata": {},
   "outputs": [],
   "source": [
    "def project_to_box(tensor):\n",
    "    return min(max(tensor, 0.0), 1.0)\n",
    "\n",
    "def calculate_coordinate_update(y, A, lambda_, alpha, w, i):\n",
    "    \"\"\"compute a coordinate update (closed form) for coordinate i.\n",
    "    A: the dataset matrix, shape = (num_examples, num_features)\n",
    "    y: the corresponding +1 or -1 labels, shape = (num_examples)\n",
    "    w: shape = (num_examples)\n",
    "    i: the coordinate to be updated\n",
    "    \"\"\"        \n",
    "    # calculate the update of coordinate at index=i.\n",
    "    a_i, y_i = A[i], y[i]\n",
    "    old_alpha_i = np.copy(alpha[i])\n",
    "    \n",
    "    alpha[i] = project_to_box(old_alpha_i + lambda_ * (1 - y_i * a_i.T @ w) / (a_i.T @ a_i))\n",
    "\n",
    "    # compute the corresponding update on the primal vector w\n",
    "    w += (1.0 / lambda_) * (alpha[i] - old_alpha_i) * y_i * a_i\n",
    "    return w, alpha"
   ]
  },
  {
   "cell_type": "code",
   "execution_count": 15,
   "metadata": {},
   "outputs": [],
   "source": [
    "def calculate_dual_objective(y, A, w, alpha, lambda_):\n",
    "    \"\"\"calculate the objective for the dual problem.\"\"\"\n",
    "    return np.sum(alpha)  - lambda_ / 2.0 * np.sum(w ** 2) # w = 1/lambda * A * Y * alpha"
   ]
  },
  {
   "cell_type": "code",
   "execution_count": 16,
   "metadata": {},
   "outputs": [
    {
     "name": "stdout",
     "output_type": "stream",
     "text": [
      "iteration=0, primal:2382.62563, dual:0.00063, gap:2382.62500\n"
     ]
    },
    {
     "name": "stderr",
     "output_type": "stream",
     "text": [
      "C:\\Users\\mbial\\AppData\\Local\\Temp\\ipykernel_16696\\2393578710.py:15: RuntimeWarning: divide by zero encountered in scalar divide\n",
      "  alpha[i] = project_to_box(old_alpha_i + lambda_ * (1 - y_i * a_i.T @ w) / (a_i.T @ a_i))\n"
     ]
    },
    {
     "name": "stdout",
     "output_type": "stream",
     "text": [
      "iteration=100000, primal:271.68995, dual:216.16840, gap:55.52155\n",
      "iteration=200000, primal:247.51175, dual:221.42340, gap:26.08835\n",
      "iteration=300000, primal:242.09677, dual:223.63027, gap:18.46650\n",
      "iteration=400000, primal:244.64498, dual:224.66796, gap:19.97702\n",
      "iteration=500000, primal:239.30841, dual:225.40082, gap:13.90759\n",
      "iteration=600000, primal:234.88636, dual:225.98319, gap:8.90317\n",
      "iteration=700000, primal:237.52157, dual:226.37221, gap:11.14937\n",
      "iteration=800000, primal:234.56445, dual:226.78501, gap:7.77945\n",
      "iteration=900000, primal:237.41942, dual:227.04896, gap:10.37046\n",
      "training accuracy = 0.9951554299555915\n"
     ]
    }
   ],
   "source": [
    "def coordinate_descent_for_svm_demo(y, A, trace=False):\n",
    "    max_iter = 1000000\n",
    "    lambda_ = 0.01\n",
    "    history = defaultdict(list) if trace else None\n",
    "    \n",
    "    num_examples, num_features = A.shape\n",
    "    w = np.zeros(num_features)\n",
    "    alpha = np.zeros(num_examples)\n",
    "    \n",
    "    for it in range(max_iter):\n",
    "        # i = sample one data point uniformly at random from the columns of A\n",
    "        i = random.randint(0,num_examples-1)\n",
    "        \n",
    "        w, alpha = calculate_coordinate_update(y, A, lambda_, alpha, w, i)\n",
    "            \n",
    "        if it % 100000 == 0:\n",
    "            # primal objective\n",
    "            primal_value = calculate_primal_objective(y, A, w, lambda_)\n",
    "            # dual objective\n",
    "            dual_value = calculate_dual_objective(y, A, w, alpha, lambda_)\n",
    "            # primal dual gap\n",
    "            duality_gap = primal_value - dual_value\n",
    "            \n",
    "            print('iteration=%i, primal:%.5f, dual:%.5f, gap:%.5f'%(\n",
    "                    it, primal_value, dual_value, duality_gap))\n",
    "        if it % 1000 == 0:\n",
    "            primal_value = calculate_primal_objective(y, A, w, lambda_)\n",
    "            if trace:\n",
    "                history[\"objective_function\"] += [primal_value]\n",
    "                history['iter'].append(it)\n",
    "\n",
    "            \n",
    "    print(\"training accuracy = {l}\".format(l=calculate_accuracy(y, A, w)))\n",
    "    return history\n",
    "\n",
    "history_cd = coordinate_descent_for_svm_demo(y, A, trace=True)"
   ]
  },
  {
   "cell_type": "markdown",
   "metadata": {},
   "source": [
    "# Stochastic gradient descent + SVM"
   ]
  },
  {
   "cell_type": "markdown",
   "metadata": {},
   "source": [
    "Optimisons le SVM avec le SGD"
   ]
  },
  {
   "cell_type": "code",
   "execution_count": 8,
   "metadata": {},
   "outputs": [],
   "source": [
    "def compute_stoch_gradient_svm(A_batch, b_batch, lambda_, w_t, num_data_points):\n",
    "    z = A_batch.dot(w_t) * b_batch\n",
    "    if z >= 1:\n",
    "        gradient = lambda_ * w_t\n",
    "    else:\n",
    "        gradient = lambda_ * w_t - num_data_points * b_batch * A_batch\n",
    "    return gradient.reshape(-1)"
   ]
  },
  {
   "cell_type": "code",
   "execution_count": 9,
   "metadata": {},
   "outputs": [],
   "source": [
    "def stochastic_gradient_descent_svm_demo(A, b, gamma, batch_size=1, trace=False):\n",
    "    history = defaultdict(list) if trace else None\n",
    "    num_data_points, num_features = np.shape(A)\n",
    "    max_iter = 1000000\n",
    "    lambda_ = 0.01\n",
    "    \n",
    "    \n",
    "    w_t = np.zeros(num_features)\n",
    "    \n",
    "    for current_iter in range(max_iter):\n",
    "        i = random.randint(0,num_data_points - 1)\n",
    "        b_batch, A_batch = b[i], A[i]\n",
    "        gradient = compute_stoch_gradient_svm(A_batch, b_batch, lambda_, w_t, num_data_points)\n",
    "        w_t = w_t - gamma * gradient\n",
    "        if current_iter % 100000 == 0:\n",
    "            primal_value = calculate_primal_objective(y, A, w_t, lambda_)\n",
    "            print('iteration=%i, primal:%.5f'%(\n",
    "                    current_iter, primal_value))\n",
    "        if current_iter % 1000 == 0:\n",
    "            primal_value = calculate_primal_objective(y, A, w_t, lambda_)\n",
    "            if trace:\n",
    "                history['objective_function'].append(primal_value)\n",
    "                history['iter'].append(current_iter)\n",
    "    print(\"training accuracy = {l}\".format(l=calculate_accuracy(y, A, w_t)))\n",
    "    return history\n"
   ]
  },
  {
   "cell_type": "markdown",
   "metadata": {},
   "source": [
    "Try different stepsized and find the best one"
   ]
  },
  {
   "cell_type": "code",
   "execution_count": 10,
   "metadata": {},
   "outputs": [
    {
     "name": "stdout",
     "output_type": "stream",
     "text": [
      "iteration=0, primal:1037.45323\n",
      "iteration=100000, primal:450.20977\n",
      "iteration=200000, primal:385.50235\n",
      "iteration=300000, primal:679.94169\n",
      "iteration=400000, primal:336.14718\n",
      "iteration=500000, primal:418.04981\n",
      "iteration=600000, primal:376.45531\n",
      "iteration=700000, primal:366.98180\n",
      "iteration=800000, primal:371.88552\n",
      "iteration=900000, primal:740.43295\n",
      "training accuracy = 0.9761808639483246\n",
      "iteration=0, primal:1589.25990\n",
      "iteration=100000, primal:247.08053\n",
      "iteration=200000, primal:242.08529\n",
      "iteration=300000, primal:241.15176\n",
      "iteration=400000, primal:242.60546\n",
      "iteration=500000, primal:238.47803\n",
      "iteration=600000, primal:239.09665\n",
      "iteration=700000, primal:242.36761\n",
      "iteration=800000, primal:236.75537\n",
      "iteration=900000, primal:240.08743\n",
      "training accuracy = 0.994751715785224\n",
      "iteration=0, primal:2449.13377\n",
      "iteration=100000, primal:277.29616\n",
      "iteration=200000, primal:259.72148\n",
      "iteration=300000, primal:253.36108\n",
      "iteration=400000, primal:249.14938\n",
      "iteration=500000, primal:245.49177\n",
      "iteration=600000, primal:244.03376\n",
      "iteration=700000, primal:241.57099\n",
      "iteration=800000, primal:239.94378\n",
      "iteration=900000, primal:238.72476\n",
      "training accuracy = 0.9939442874444893\n",
      "iteration=0, primal:2460.57254\n",
      "iteration=100000, primal:377.38251\n",
      "iteration=200000, primal:340.15979\n",
      "iteration=300000, primal:321.89648\n",
      "iteration=400000, primal:309.69213\n",
      "iteration=500000, primal:300.66898\n",
      "iteration=600000, primal:293.21645\n",
      "iteration=700000, primal:285.76277\n",
      "iteration=800000, primal:279.88496\n",
      "iteration=900000, primal:275.43255\n",
      "training accuracy = 0.9878885748889786\n"
     ]
    }
   ],
   "source": [
    "history_sgd_3 = stochastic_gradient_descent_svm_demo(A, y, 1e-3, batch_size=1, trace=True)\n",
    "history_sgd_4 = stochastic_gradient_descent_svm_demo(A, y, 1e-4, batch_size=1, trace=True)\n",
    "history_sgd_5 = stochastic_gradient_descent_svm_demo(A, y, 1e-5, batch_size=1, trace=True)\n",
    "history_sgd_6 = stochastic_gradient_descent_svm_demo(A, y, 1e-6, batch_size=1, trace=True)"
   ]
  },
  {
   "cell_type": "code",
   "execution_count": 13,
   "metadata": {
    "scrolled": true
   },
   "outputs": [
    {
     "data": {
      "image/png": "[encoded data removed]",
      "text/plain": [
       "<Figure size 640x480 with 1 Axes>"
      ]
     },
     "metadata": {},
     "output_type": "display_data"
    }
   ],
   "source": [
    "plt.semilogy(history_sgd_3[\"iter\"], history_sgd_3[\"objective_function\"], label=\"sgd, $\\gamma = 10^{-3}$\")\n",
    "plt.semilogy(history_sgd_4[\"iter\"], history_sgd_4[\"objective_function\"], label=\"sgd, $\\gamma = 10^{-4}$\")\n",
    "plt.semilogy(history_sgd_5[\"iter\"], history_sgd_5[\"objective_function\"], label=\"sgd, $\\gamma = 10^{-5}$\")\n",
    "plt.semilogy(history_sgd_6[\"iter\"], history_sgd_6[\"objective_function\"], label=\"sgd, $\\gamma = 10^{-6}$\")\n",
    "plt.legend()\n",
    "plt.show()"
   ]
  },
  {
   "cell_type": "markdown",
   "metadata": {},
   "source": [
    "La meilleure itération est $\\gamma = 10^{-4}$."
   ]
  },
  {
   "cell_type": "markdown",
   "metadata": {},
   "source": [
    "# Comparaison SGD et coordinate "
   ]
  },
  {
   "cell_type": "code",
   "execution_count": 19,
   "metadata": {},
   "outputs": [
    {
     "data": {
      "image/png": "[encoded data removed]",
      "text/plain": [
       "<Figure size 640x480 with 1 Axes>"
      ]
     },
     "metadata": {},
     "output_type": "display_data"
    }
   ],
   "source": [
    "plt.semilogy(history_sgd_4[\"iter\"], history_sgd_4[\"objective_function\"], label=\"SGD, $\\gamma = 10^{-4}$\")\n",
    "plt.semilogy(history_cd[\"iter\"], history_cd[\"objective_function\"], label=\"Coordinate descent\")\n",
    "plt.legend()\n",
    "plt.show()"
   ]
  },
  {
   "cell_type": "markdown",
   "metadata": {},
   "source": [
    "En termes de temps, la descente stochastique de gradient (SGD) et la descente par coordonnées ont les mêmes complexités temporelles par itération. Sur le graphique ci-dessus, la SGD avec le meilleur taux d'apprentissage converge à peu près à la même vitesse que la descente par coordonnées en termes d'itérations, tandis que la descente par coordonnées ne nécessite aucun ajustement de paramètres !"
   ]
  },
  {
   "cell_type": "code",
   "execution_count": null,
   "metadata": {},
   "outputs": [],
   "source": []
  }
 ],
 "metadata": {
  "anaconda-cloud": {},
  "kernelspec": {
   "display_name": "base",
   "language": "python",
   "name": "python3"
  },
  "language_info": {
   "codemirror_mode": {
    "name": "ipython",
    "version": 3
   },
   "file_extension": ".py",
   "mimetype": "text/x-python",
   "name": "python",
   "nbconvert_exporter": "python",
   "pygments_lexer": "ipython3",
   "version": "3.11.5"
  },
  "toc": {
   "base_numbering": 1,
   "nav_menu": {},
   "number_sections": true,
   "sideBar": true,
   "skip_h1_title": false,
   "title_cell": "Table of Contents",
   "title_sidebar": "Contents",
   "toc_cell": false,
   "toc_position": {},
   "toc_section_display": true,
   "toc_window_display": false
  }
 },
 "nbformat": 4,
 "nbformat_minor": 1
}
