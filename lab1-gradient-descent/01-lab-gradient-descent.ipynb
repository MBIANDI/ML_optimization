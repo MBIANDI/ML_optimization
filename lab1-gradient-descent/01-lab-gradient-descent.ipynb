{
 "cells": [
  {
   "cell_type": "markdown",
   "metadata": {},
   "source": [
    "<div style=\"border: 2px solid #e74c3c; padding: 10px; border-radius: 5px; text-align: center; background-color: #fdecea; color: #c0392b; font-weight: bold;\">\n",
    "  Gradient descent\n",
    "</div>"
   ]
  },
  {
   "cell_type": "markdown",
   "metadata": {},
   "source": [
    "# Estimation des Moindres Carrés\n",
    "L'estimation des moindres carrés est l'un des algorithmes fondamentaux de l'apprentissage automatique. Étant donné une matrice $A$ de dimensions $n \\times d$ et un vecteur $b$ de dimensions $n \\times 1$, l'objectif est de trouver un vecteur $x \\in \\mathbb{R}^d$ qui minimise la fonction objectif $$f(x) = \\frac{1}{2n} \\sum_{i=1}^{n} (a_i^\\top x - b_i)^2 = \\frac{1}{2n} \\|Ax - b\\|^2 $$\n",
    "\n",
    "Dans cet exercice, nous allons essayer de déterminer $x$ en utilisant l'estimation des moindres carrés.\n",
    "\n",
    "On peut voir que la fonction est $L$-smooth avec $L = \\frac1n\\|A^T A\\| = \\frac1n\\|A\\|^2$."
   ]
  },
  {
   "cell_type": "code",
   "execution_count": null,
   "metadata": {},
   "outputs": [
    {
     "name": "stdout",
     "output_type": "stream",
     "text": [
      "The autoreload extension is already loaded. To reload it, use:\n",
      "  %reload_ext autoreload\n"
     ]
    }
   ],
   "source": [
    "%matplotlib inline\n",
    "import numpy as np\n",
    "import matplotlib.pyplot as plt\n",
    "import datetime\n",
    "from ipywidgets import IntSlider, interact\n",
    "%load_ext autoreload\n",
    "%autoreload 2"
   ]
  },
  {
   "cell_type": "code",
   "execution_count": null,
   "metadata": {},
   "outputs": [],
   "source": [
    "# Custom libriaires\n",
    "from utils import (\n",
    "    load_data,\n",
    "    standardize,\n",
    "    build_model_data,\n",
    "    prediction,\n",
    "    base_visualization,\n",
    "    grid_visualization,\n",
    "    gradient_descent_visualization,\n",
    "    grid_search, \n",
    "    generate_w, \n",
    "    get_best_parameters\n",
    ")"
   ]
  },
  {
   "cell_type": "markdown",
   "metadata": {},
   "source": [
    "## Load data"
   ]
  },
  {
   "cell_type": "code",
   "execution_count": 7,
   "metadata": {},
   "outputs": [],
   "source": [
    "height, weight, gender = load_data(sub_sample=False, add_outlier=False)\n",
    "x, mean_x, std_x = standardize(height)\n",
    "b, A = build_model_data(x, weight)"
   ]
  },
  {
   "cell_type": "markdown",
   "metadata": {},
   "source": [
    "## Calcul de la fonction objective"
   ]
  },
  {
   "cell_type": "code",
   "execution_count": 8,
   "metadata": {},
   "outputs": [],
   "source": [
    "def calculate_objective(Axmb):\n",
    "    \"\"\"Calculate the mean squared error for vector Axmb = Ax - b.\"\"\"\n",
    "    return 1/2*np.mean(Axmb**2)"
   ]
  },
  {
   "cell_type": "markdown",
   "metadata": {},
   "source": [
    "## Calcul de la constante L"
   ]
  },
  {
   "cell_type": "code",
   "execution_count": 15,
   "metadata": {},
   "outputs": [],
   "source": [
    "def calculate_L( A):\n",
    "    \"\"\"Calculate the smoothness constant for f.\n",
    "    L = 1/n ||A||2 \n",
    "    \n",
    "    \"\"\"\n",
    "    eig = np.linalg.eigvals(A.T.dot(A))\n",
    "    L = max(eig)/(A.shape[0])           \n",
    "    return L"
   ]
  },
  {
   "cell_type": "markdown",
   "metadata": {},
   "source": [
    "## La descente de gradient"
   ]
  },
  {
   "cell_type": "markdown",
   "metadata": {},
   "source": [
    "# Algorithme de Descente de Gradient\n",
    "\n",
    "La descente de gradient est une méthode d'optimisation utilisée pour minimiser une fonction objectif `f(x)`, où `x ∈ R^d`. Elle repose sur l'utilisation du gradient pour ajuster progressivement les valeurs de `x` afin de réduire `f(x)`.\n",
    "\n",
    "---\n",
    "\n",
    "## **Algorithme : Descente de Gradient**\n",
    "\n",
    "**Entrées** :\n",
    "- Une fonction objective différentiable `f(x)`,\n",
    "- Un point initial `x_0 ∈ R^d`,\n",
    "- Un pas d'apprentissage `η > 0` (appelé taux d'apprentissage),\n",
    "- Un nombre maximal d'itérations `T`,\n",
    "- (Optionnel) Une condition d'arrêt basée sur la norme du gradient.\n",
    "\n",
    "---\n",
    "\n",
    "### Étapes de l'algorithme :\n",
    "1. Initialiser `x_0`.\n",
    "2. **Pour** `t = 0, 1, ..., T-1` :\n",
    "   - Calculer le gradient `g_t = ∇f(x_t)`,\n",
    "   - Mettre à jour `x` en suivant la règle :\n",
    "     ```\n",
    "     x_{t+1} = x_t - η * g_t\n",
    "     ```\n",
    "   - **Optionnel** : Arrêter si `||g_t|| ≤ ε`, où `ε > 0` est un seuil de tolérance.\n",
    "3. Retourner `x_T` comme solution approchée.\n",
    "\n",
    "---\n",
    "\n",
    "## **Détails Importants :**\n",
    "\n",
    "### 1. **Choix du pas d'apprentissage `η`**\n",
    "Le pas d'apprentissage `η` contrôle la vitesse de convergence :\n",
    "- Si `η` est trop petit : la convergence est lente.\n",
    "- Si `η` est trop grand : on risque de diverger.\n",
    "\n",
    "### 2. **Condition d'arrêt**\n",
    "Pour garantir que l'algorithme ne tourne pas indéfiniment, on peut utiliser plusieurs critères :\n",
    "- Un nombre maximal d'itérations `T`,\n",
    "- La norme du gradient `||g_t|| ≤ ε`,\n",
    "- La variation de `f(x)` : arrêter si `|f(x_{t+1}) - f(x_t)|` est très petit.\n",
    "\n",
    "### 3. **Convergence**\n",
    "Sous certaines conditions (par exemple, si `f(x)` est convexe et `L`-lisse), la descente de gradient converge vers un minimum global. Sinon, elle converge généralement vers un minimum local.\n",
    "\n",
    "---\n",
    "\n",
    "## **Pseudo-code :**\n",
    "\n",
    "```plaintext\n",
    "Entrées : f(x), x_0, η, T, ε\n",
    "Initialiser : x ← x_0\n",
    "Pour t = 0, 1, ..., T-1 :\n",
    "    g ← ∇f(x)        # Calculer le gradient\n",
    "    Si ||g|| ≤ ε :\n",
    "        Arrêter\n",
    "    x ← x - η * g     # Mettre à jour x\n",
    "Retourner x\n"
   ]
  },
  {
   "cell_type": "code",
   "execution_count": 17,
   "metadata": {},
   "outputs": [],
   "source": [
    "def compute_gradient(b, A, x):\n",
    "    \"\"\"Compute the gradient.\"\"\"\n",
    "    Axmb = A.dot(x) - b\n",
    "    grad = A.T.dot(Axmb) / len(Axmb)\n",
    "    return grad, Axmb"
   ]
  },
  {
   "cell_type": "code",
   "execution_count": 18,
   "metadata": {},
   "outputs": [],
   "source": [
    "def gradient_descent(b, A, initial_x, max_iters, gamma):\n",
    "    \"\"\"Gradient descent algorithm.\"\"\"\n",
    "    # Define parameters to store x and objective func. values\n",
    "    xs = [initial_x]\n",
    "    objectives = []\n",
    "    x = initial_x\n",
    "    for n_iter in range(max_iters):\n",
    "        # compute objective, gradient\n",
    "        grad, Axmb = compute_gradient(b, A, x)\n",
    "        obj = calculate_objective(Axmb)\n",
    "        # update x by a gradient descent step\n",
    "        x = x - gamma * grad\n",
    "        # store x and objective function value\n",
    "        xs.append(x)\n",
    "        objectives.append(obj)\n",
    "        print(\"Gradient Descent({bi}/{ti}): objective={l}\".format(\n",
    "              bi=n_iter, ti=max_iters - 1, l=obj))\n",
    "\n",
    "    return objectives, xs"
   ]
  },
  {
   "cell_type": "markdown",
   "metadata": {},
   "source": [
    "## Application"
   ]
  },
  {
   "cell_type": "code",
   "execution_count": 19,
   "metadata": {},
   "outputs": [
    {
     "name": "stdout",
     "output_type": "stream",
     "text": [
      "Gradient Descent(0/49): objective=2792.2367127591674\n",
      "Gradient Descent(1/49): objective=2264.6350560300034\n",
      "Gradient Descent(2/49): objective=1837.27771407938\n",
      "Gradient Descent(3/49): objective=1491.118267099376\n",
      "Gradient Descent(4/49): objective=1210.7291150455724\n",
      "Gradient Descent(5/49): objective=983.6139018819913\n",
      "Gradient Descent(6/49): objective=799.6505792194906\n",
      "Gradient Descent(7/49): objective=650.640287862865\n",
      "Gradient Descent(8/49): objective=529.9419518639982\n",
      "Gradient Descent(9/49): objective=432.1762997049161\n",
      "Gradient Descent(10/49): objective=352.9861214560597\n",
      "Gradient Descent(11/49): objective=288.842077074486\n",
      "Gradient Descent(12/49): objective=236.88540112541122\n",
      "Gradient Descent(13/49): objective=194.80049360666067\n",
      "Gradient Descent(14/49): objective=160.71171851647276\n",
      "Gradient Descent(15/49): objective=133.09981069342058\n",
      "Gradient Descent(16/49): objective=110.73416535674829\n",
      "Gradient Descent(17/49): objective=92.61799263404369\n",
      "Gradient Descent(18/49): objective=77.943892728653\n",
      "Gradient Descent(19/49): objective=66.05787180528654\n",
      "Gradient Descent(20/49): objective=56.430194857359716\n",
      "Gradient Descent(21/49): objective=48.631776529538975\n",
      "Gradient Descent(22/49): objective=42.315057684004195\n",
      "Gradient Descent(23/49): objective=37.19851541912101\n",
      "Gradient Descent(24/49): objective=33.054116184565615\n",
      "Gradient Descent(25/49): objective=29.69715280457577\n",
      "Gradient Descent(26/49): objective=26.978012466783984\n",
      "Gradient Descent(27/49): objective=24.775508793172605\n",
      "Gradient Descent(28/49): objective=22.991480817547423\n",
      "Gradient Descent(29/49): objective=21.546418157290994\n",
      "Gradient Descent(30/49): objective=20.375917402483303\n",
      "Gradient Descent(31/49): objective=19.42781179108905\n",
      "Gradient Descent(32/49): objective=18.65984624585973\n",
      "Gradient Descent(33/49): objective=18.037794154223974\n",
      "Gradient Descent(34/49): objective=17.53393195999902\n",
      "Gradient Descent(35/49): objective=17.1258035826768\n",
      "Gradient Descent(36/49): objective=16.795219597045794\n",
      "Gradient Descent(37/49): objective=16.527446568684688\n",
      "Gradient Descent(38/49): objective=16.310550415712186\n",
      "Gradient Descent(39/49): objective=16.134864531804457\n",
      "Gradient Descent(40/49): objective=15.992558965839189\n",
      "Gradient Descent(41/49): objective=15.877291457407333\n",
      "Gradient Descent(42/49): objective=15.783924775577523\n",
      "Gradient Descent(43/49): objective=15.70829776329538\n",
      "Gradient Descent(44/49): objective=15.64703988334684\n",
      "Gradient Descent(45/49): objective=15.597421000588529\n",
      "Gradient Descent(46/49): objective=15.557229705554294\n",
      "Gradient Descent(47/49): objective=15.52467475657656\n",
      "Gradient Descent(48/49): objective=15.498305247904602\n",
      "Gradient Descent(49/49): objective=15.476945945880312\n",
      "Gradient Descent: execution time=0.142 seconds\n"
     ]
    }
   ],
   "source": [
    "\n",
    "\n",
    "# Define the parameters of the algorithm.\n",
    "max_iters = 50\n",
    "\n",
    "gamma = 0.1\n",
    "\n",
    "# Initialization\n",
    "x_initial = np.zeros(A.shape[1])\n",
    "\n",
    "# Start gradient descent.\n",
    "start_time = datetime.datetime.now()\n",
    "gradient_objectives_naive, gradient_xs_naive = gradient_descent(b, A, x_initial, max_iters, gamma)\n",
    "end_time = datetime.datetime.now()\n",
    "\n",
    "# Print result\n",
    "exection_time = (end_time - start_time).total_seconds()\n",
    "print(\"Gradient Descent: execution time={t:.3f} seconds\".format(t=exection_time))"
   ]
  },
  {
   "cell_type": "code",
   "execution_count": 23,
   "metadata": {},
   "outputs": [],
   "source": [
    "\n",
    "\n",
    "def plot_figure(n_iter):\n",
    "    # Generate grid data for visualization (parameters to be swept and best combination)\n",
    "    grid_x0, grid_x1 = generate_w(num_intervals=10)\n",
    "    grid_objectives = grid_search(b, A, grid_x0, grid_x1)\n",
    "    obj_star, x0_star, x1_star = get_best_parameters(grid_x0, grid_x1, grid_objectives)\n",
    "    \n",
    "    fig = gradient_descent_visualization(\n",
    "        gradient_objectives_naive, gradient_xs_naive, grid_objectives, grid_x0, grid_x1, mean_x, std_x, height, weight, n_iter)\n",
    "    fig.set_size_inches(10.0, 6.0)\n",
    "\n"
   ]
  },
  {
   "cell_type": "code",
   "execution_count": 25,
   "metadata": {},
   "outputs": [
    {
     "data": {
      "application/vnd.jupyter.widget-view+json": {
       "model_id": "951c1ed59f044f429feb6be105686679",
       "version_major": 2,
       "version_minor": 0
      },
      "text/plain": [
       "interactive(children=(IntSlider(value=1, description='n_iter', max=51, min=1), Output()), _dom_classes=('widge…"
      ]
     },
     "metadata": {},
     "output_type": "display_data"
    }
   ],
   "source": [
    "interact(plot_figure, n_iter=IntSlider(min=1, max=len(gradient_xs_naive)));"
   ]
  },
  {
   "cell_type": "code",
   "execution_count": 27,
   "metadata": {},
   "outputs": [
    {
     "name": "stdout",
     "output_type": "stream",
     "text": [
      "Gradient Descent(0/49): objective=2792.2367127591674\n",
      "Gradient Descent(1/49): objective=15.3858878688294\n",
      "Gradient Descent(2/49): objective=15.3858878688294\n",
      "Gradient Descent(3/49): objective=15.3858878688294\n",
      "Gradient Descent(4/49): objective=15.3858878688294\n",
      "Gradient Descent(5/49): objective=15.3858878688294\n",
      "Gradient Descent(6/49): objective=15.3858878688294\n",
      "Gradient Descent(7/49): objective=15.3858878688294\n",
      "Gradient Descent(8/49): objective=15.3858878688294\n",
      "Gradient Descent(9/49): objective=15.3858878688294\n",
      "Gradient Descent(10/49): objective=15.3858878688294\n",
      "Gradient Descent(11/49): objective=15.3858878688294\n",
      "Gradient Descent(12/49): objective=15.3858878688294\n",
      "Gradient Descent(13/49): objective=15.3858878688294\n",
      "Gradient Descent(14/49): objective=15.3858878688294\n",
      "Gradient Descent(15/49): objective=15.3858878688294\n",
      "Gradient Descent(16/49): objective=15.3858878688294\n",
      "Gradient Descent(17/49): objective=15.3858878688294\n",
      "Gradient Descent(18/49): objective=15.3858878688294\n",
      "Gradient Descent(19/49): objective=15.3858878688294\n",
      "Gradient Descent(20/49): objective=15.3858878688294\n",
      "Gradient Descent(21/49): objective=15.3858878688294\n",
      "Gradient Descent(22/49): objective=15.3858878688294\n",
      "Gradient Descent(23/49): objective=15.3858878688294\n",
      "Gradient Descent(24/49): objective=15.3858878688294\n",
      "Gradient Descent(25/49): objective=15.3858878688294\n",
      "Gradient Descent(26/49): objective=15.3858878688294\n",
      "Gradient Descent(27/49): objective=15.3858878688294\n",
      "Gradient Descent(28/49): objective=15.3858878688294\n",
      "Gradient Descent(29/49): objective=15.3858878688294\n",
      "Gradient Descent(30/49): objective=15.3858878688294\n",
      "Gradient Descent(31/49): objective=15.3858878688294\n",
      "Gradient Descent(32/49): objective=15.3858878688294\n",
      "Gradient Descent(33/49): objective=15.3858878688294\n",
      "Gradient Descent(34/49): objective=15.3858878688294\n",
      "Gradient Descent(35/49): objective=15.3858878688294\n",
      "Gradient Descent(36/49): objective=15.3858878688294\n",
      "Gradient Descent(37/49): objective=15.3858878688294\n",
      "Gradient Descent(38/49): objective=15.3858878688294\n",
      "Gradient Descent(39/49): objective=15.3858878688294\n",
      "Gradient Descent(40/49): objective=15.3858878688294\n",
      "Gradient Descent(41/49): objective=15.3858878688294\n",
      "Gradient Descent(42/49): objective=15.3858878688294\n",
      "Gradient Descent(43/49): objective=15.3858878688294\n",
      "Gradient Descent(44/49): objective=15.3858878688294\n",
      "Gradient Descent(45/49): objective=15.3858878688294\n",
      "Gradient Descent(46/49): objective=15.3858878688294\n",
      "Gradient Descent(47/49): objective=15.3858878688294\n",
      "Gradient Descent(48/49): objective=15.3858878688294\n",
      "Gradient Descent(49/49): objective=15.3858878688294\n",
      "Gradient Descent: execution time=0.008 seconds\n"
     ]
    }
   ],
   "source": [
    "# Define the parameters of the algorithm.\n",
    "max_iters = 50\n",
    "\n",
    "L = calculate_L(A)\n",
    "gamma = 1/L\n",
    "\n",
    "# Initialization\n",
    "x_initial = np.zeros(A.shape[1])\n",
    "\n",
    "# Start gradient descent.\n",
    "start_time = datetime.datetime.now()\n",
    "gradient_objectives, gradient_xs = gradient_descent(b, A, x_initial, max_iters, gamma)\n",
    "end_time = datetime.datetime.now()\n",
    "\n",
    "# Print result\n",
    "exection_time = (end_time - start_time).total_seconds()\n",
    "print(\"Gradient Descent: execution time={t:.3f} seconds\".format(t=exection_time))"
   ]
  },
  {
   "cell_type": "markdown",
   "metadata": {},
   "source": [
    "Avec le bon taux d'apprentissage, l'algorithme converge plus rapidement."
   ]
  },
  {
   "cell_type": "code",
   "execution_count": 29,
   "metadata": {},
   "outputs": [
    {
     "data": {
      "application/vnd.jupyter.widget-view+json": {
       "model_id": "022e518630134c0ca3f5b086039248ea",
       "version_major": 2,
       "version_minor": 0
      },
      "text/plain": [
       "interactive(children=(IntSlider(value=1, description='n_iter', max=51, min=1), Output()), _dom_classes=('widge…"
      ]
     },
     "metadata": {},
     "output_type": "display_data"
    }
   ],
   "source": [
    "interact(plot_figure, n_iter=IntSlider(min=1, max=len(gradient_xs)));"
   ]
  },
  {
   "cell_type": "markdown",
   "metadata": {},
   "source": [
    "## Faisons le test sur des données plus concrètes"
   ]
  },
  {
   "cell_type": "code",
   "execution_count": 30,
   "metadata": {},
   "outputs": [],
   "source": [
    "data = np.loadtxt(\"Concrete_Data.csv\",delimiter=\",\")\n",
    "\n",
    "A = data[:,:-1]\n",
    "b = data[:,-1]\n",
    "A, mean_A, std_A = standardize(A)"
   ]
  },
  {
   "cell_type": "markdown",
   "metadata": {},
   "source": [
    "## Supposons des gradients bornés\n",
    "Supposons que nous évoluons dans une région bornée $\\|x\\| \\leq 25$ contenant toutes les itérations (et nous supposons également, pour simplifier, que $\\|x - x^\\star\\| \\leq 25$). Alors, d'après $\\nabla f(x) = \\frac{1}{n}A^\\top (Ax - b)$, on peut voir que $f$ est Lipschitzienne sur cette région bornée, avec une constante de Lipschitz $\\|\\nabla f(x)\\| \\leq \\frac{1}{n} (\\|A^\\top A\\|\\|x\\| + \\|A^\\top b\\|)$.\n"
   ]
  },
  {
   "cell_type": "code",
   "execution_count": 31,
   "metadata": {},
   "outputs": [
    {
     "data": {
      "text/plain": [
       "98.66209327259453"
      ]
     },
     "execution_count": 31,
     "metadata": {},
     "output_type": "execute_result"
    }
   ],
   "source": [
    "grad_norm_bound = (25*np.linalg.norm(np.dot(A.T,A)) + np.linalg.norm(np.dot(A.T,b)))/A.shape[0]\n",
    "grad_norm_bound"
   ]
  },
  {
   "cell_type": "code",
   "execution_count": 32,
   "metadata": {},
   "outputs": [
    {
     "name": "stdout",
     "output_type": "stream",
     "text": [
      "Gradient Descent(0/49): objective=780.8686016504854\n",
      "Gradient Descent(1/49): objective=774.4313276862508\n",
      "Gradient Descent(2/49): objective=768.5337098080474\n",
      "Gradient Descent(3/49): objective=763.1283733311028\n",
      "Gradient Descent(4/49): objective=758.1722464988205\n",
      "Gradient Descent(5/49): objective=753.626157458017\n",
      "Gradient Descent(6/49): objective=749.4544702154914\n",
      "Gradient Descent(7/49): objective=745.6247556604571\n",
      "Gradient Descent(8/49): objective=742.1074941494887\n",
      "Gradient Descent(9/49): objective=738.8758065168346\n",
      "Gradient Descent(10/49): objective=735.9052106986934\n",
      "Gradient Descent(11/49): objective=733.1734014501008\n",
      "Gradient Descent(12/49): objective=730.6600508915816\n",
      "Gradient Descent(13/49): objective=728.3466278533618\n",
      "Gradient Descent(14/49): objective=726.2162341908602\n",
      "Gradient Descent(15/49): objective=724.2534564292371\n",
      "Gradient Descent(16/49): objective=722.4442312594081\n",
      "Gradient Descent(17/49): objective=720.7757235552962\n",
      "Gradient Descent(18/49): objective=719.2362157141333\n",
      "Gradient Descent(19/49): objective=717.8150072399927\n",
      "Gradient Descent(20/49): objective=716.5023235969363\n",
      "Gradient Descent(21/49): objective=715.289233453504\n",
      "Gradient Descent(22/49): objective=714.1675735259378\n",
      "Gradient Descent(23/49): objective=713.1298803045223\n",
      "Gradient Descent(24/49): objective=712.1693280166955\n",
      "Gradient Descent(25/49): objective=711.2796722428957\n",
      "Gradient Descent(26/49): objective=710.4551986572515\n",
      "Gradient Descent(27/49): objective=709.6906764157699\n",
      "Gradient Descent(28/49): objective=708.98131576026\n",
      "Gradient Descent(29/49): objective=708.32272944732\n",
      "Gradient Descent(30/49): objective=707.7108976487891\n",
      "Gradient Descent(31/49): objective=707.1421360035325\n",
      "Gradient Descent(32/49): objective=706.613066530628\n",
      "Gradient Descent(33/49): objective=706.1205911413172\n",
      "Gradient Descent(34/49): objective=705.6618675117394\n",
      "Gradient Descent(35/49): objective=705.2342871007447\n",
      "Gradient Descent(36/49): objective=704.8354551172382\n",
      "Gradient Descent(37/49): objective=704.4631722597289\n",
      "Gradient Descent(38/49): objective=704.1154180672427\n",
      "Gradient Descent(39/49): objective=703.7903357356831\n",
      "Gradient Descent(40/49): objective=703.4862182672251\n",
      "Gradient Descent(41/49): objective=703.2014958325636\n",
      "Gradient Descent(42/49): objective=702.9347242369095\n",
      "Gradient Descent(43/49): objective=702.6845743906632\n",
      "Gradient Descent(44/49): objective=702.4498226947927\n",
      "Gradient Descent(45/49): objective=702.2293422591738\n",
      "Gradient Descent(46/49): objective=702.0220948796361\n",
      "Gradient Descent(47/49): objective=701.8271237062208\n",
      "Gradient Descent(48/49): objective=701.6435465413084\n",
      "Gradient Descent(49/49): objective=701.4705497118428\n",
      "Gradient Descent: execution time=0.010 seconds\n"
     ]
    }
   ],
   "source": [
    "max_iters = 50\n",
    "gamma = 25/(grad_norm_bound*np.sqrt(max_iters))\n",
    "\n",
    "# Initialization\n",
    "x_initial = np.zeros(A.shape[1])\n",
    "\n",
    "# Start gradient descent.\n",
    "start_time = datetime.datetime.now()\n",
    "bd_gradient_objectives, bd_gradient_xs = gradient_descent(b, A, x_initial, max_iters, gamma)\n",
    "end_time = datetime.datetime.now()\n",
    "\n",
    "\n",
    "# Print result\n",
    "exection_time = (end_time - start_time).total_seconds()\n",
    "print(\"Gradient Descent: execution time={t:.3f} seconds\".format(t=exection_time))\n",
    "\n",
    "# Averaging the iterates as is the case for bounded gradients case\n",
    "bd_gradient_objectives_averaged = []\n",
    "for i in range(len(bd_gradient_xs)):\n",
    "    if i > 0:\n",
    "        bd_gradient_xs[i] = (i * bd_gradient_xs[i-1] + bd_gradient_xs[i])/(i + 1)\n",
    "    grad, err = compute_gradient(b, A, bd_gradient_xs[i])\n",
    "    obj = calculate_objective(err)\n",
    "    bd_gradient_objectives_averaged.append(obj)"
   ]
  },
  {
   "cell_type": "markdown",
   "metadata": {},
   "source": [
    "### Descente de gradient avec la constante smooth L"
   ]
  },
  {
   "cell_type": "code",
   "execution_count": 34,
   "metadata": {},
   "outputs": [
    {
     "name": "stdout",
     "output_type": "stream",
     "text": [
      "Gradient Descent(0/49): objective=780.8686016504854\n",
      "Gradient Descent(1/49): objective=721.5052560260677\n",
      "Gradient Descent(2/49): objective=706.7843584315374\n",
      "Gradient Descent(3/49): objective=702.1659603718193\n",
      "Gradient Descent(4/49): objective=700.3195706210596\n",
      "Gradient Descent(5/49): objective=699.3927282552014\n",
      "Gradient Descent(6/49): objective=698.8265138747603\n",
      "Gradient Descent(7/49): objective=698.4252460378514\n",
      "Gradient Descent(8/49): objective=698.1121802865196\n",
      "Gradient Descent(9/49): objective=697.8540419775695\n",
      "Gradient Descent(10/49): objective=697.6346924802035\n",
      "Gradient Descent(11/49): objective=697.4451956987403\n",
      "Gradient Descent(12/49): objective=697.2798771098778\n",
      "Gradient Descent(13/49): objective=697.134694345026\n",
      "Gradient Descent(14/49): objective=697.0065306304226\n",
      "Gradient Descent(15/49): objective=696.8928669366339\n",
      "Gradient Descent(16/49): objective=696.7916143488984\n",
      "Gradient Descent(17/49): objective=696.7010172175321\n",
      "Gradient Descent(18/49): objective=696.6195897256094\n",
      "Gradient Descent(19/49): objective=696.5460698345363\n",
      "Gradient Descent(20/49): objective=696.4793834248535\n",
      "Gradient Descent(21/49): objective=696.4186151939681\n",
      "Gradient Descent(22/49): objective=696.362984497491\n",
      "Gradient Descent(23/49): objective=696.3118250564794\n",
      "Gradient Descent(24/49): objective=696.2645678090805\n",
      "Gradient Descent(25/49): objective=696.220726375205\n",
      "Gradient Descent(26/49): objective=696.1798847171167\n",
      "Gradient Descent(27/49): objective=696.141686656003\n",
      "Gradient Descent(28/49): objective=696.1058269617541\n",
      "Gradient Descent(29/49): objective=696.0720437782061\n",
      "Gradient Descent(30/49): objective=696.0401121828639\n",
      "Gradient Descent(31/49): objective=696.0098387107206\n",
      "Gradient Descent(32/49): objective=695.9810566975377\n",
      "Gradient Descent(33/49): objective=695.9536223197188\n",
      "Gradient Descent(34/49): objective=695.92741122636\n",
      "Gradient Descent(35/49): objective=695.9023156747344\n",
      "Gradient Descent(36/49): objective=695.8782420937702\n",
      "Gradient Descent(37/49): objective=695.8551090113992\n",
      "Gradient Descent(38/49): objective=695.8328452912637\n",
      "Gradient Descent(39/49): objective=695.8113886324363\n",
      "Gradient Descent(40/49): objective=695.7906842927655\n",
      "Gradient Descent(41/49): objective=695.7706840023488\n",
      "Gradient Descent(42/49): objective=695.7513450386715\n",
      "Gradient Descent(43/49): objective=695.7326294392002\n",
      "Gradient Descent(44/49): objective=695.714503330864\n",
      "Gradient Descent(45/49): objective=695.6969363589233\n",
      "Gradient Descent(46/49): objective=695.6799012003625\n",
      "Gradient Descent(47/49): objective=695.6633731491595\n",
      "Gradient Descent(48/49): objective=695.6473297626892\n",
      "Gradient Descent(49/49): objective=695.63175056012\n",
      "Gradient Descent: execution time=0.004 seconds\n"
     ]
    }
   ],
   "source": [
    "max_iters = 50\n",
    "L = calculate_L( A)\n",
    "gamma = 1/L\n",
    "\n",
    "# Initialization\n",
    "x_initial = np.zeros(A.shape[1])\n",
    "\n",
    "# Start gradient descent.\n",
    "start_time = datetime.datetime.now()\n",
    "gradient_objectives, gradient_xs = gradient_descent(b, A, x_initial, max_iters, gamma)\n",
    "end_time = datetime.datetime.now()\n",
    "\n",
    "# Print result\n",
    "exection_time = (end_time - start_time).total_seconds()\n",
    "print(\"Gradient Descent: execution time={t:.3f} seconds\".format(t=exection_time))"
   ]
  },
  {
   "cell_type": "markdown",
   "metadata": {},
   "source": [
    "## Visualisons l'évolution des fonctions objectives"
   ]
  },
  {
   "cell_type": "code",
   "execution_count": 35,
   "metadata": {},
   "outputs": [
    {
     "data": {
      "image/png": "[encoded data removed]",
      "text/plain": [
       "<Figure size 800x800 with 1 Axes>"
      ]
     },
     "metadata": {},
     "output_type": "display_data"
    }
   ],
   "source": [
    "plt.figure(figsize=(8, 8))\n",
    "plt.xlabel('Number of steps')\n",
    "plt.ylabel('Objective Function')\n",
    "#plt.yscale(\"log\")\n",
    "plt.plot(range(len(gradient_objectives)), gradient_objectives,'r', label='gradient descent with 1/L stepsize')\n",
    "plt.plot(range(len(bd_gradient_objectives)), bd_gradient_objectives,'b', label='gradient descent assuming bounded gradients')\n",
    "plt.plot(range(len(bd_gradient_objectives_averaged)), bd_gradient_objectives_averaged,'g', label='gradient descent assuming bounded gradients with averaged iterates')\n",
    "plt.legend(loc='upper right')\n",
    "plt.show()"
   ]
  },
  {
   "cell_type": "code",
   "execution_count": null,
   "metadata": {},
   "outputs": [],
   "source": []
  }
 ],
 "metadata": {
  "kernelspec": {
   "display_name": "base",
   "language": "python",
   "name": "python3"
  },
  "language_info": {
   "codemirror_mode": {
    "name": "ipython",
    "version": 3
   },
   "file_extension": ".py",
   "mimetype": "text/x-python",
   "name": "python",
   "nbconvert_exporter": "python",
   "pygments_lexer": "ipython3",
   "version": "3.11.5"
  }
 },
 "nbformat": 4,
 "nbformat_minor": 2
}
