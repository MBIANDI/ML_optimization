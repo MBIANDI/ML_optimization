{
 "cells": [
  {
   "cell_type": "markdown",
   "metadata": {},
   "source": [
    "- Package projet\n",
    "- créer un env conda : conda create -n nom-env python==3.10\n",
    "\n",
    "# Package project\n",
    "1. créer un dossier avec le nom de votre package : LinearRegression\n",
    "2. Rajouter le fichier : __init__.py\n",
    "3. créer un fichier setup.py où vous allez renseigner les informations du package\n",
    "4. Exécuter dans le terminal : python setup.py bdist_wheel\n",
    "5. Si tout fonctionne bien vous aurez le fichier suivant dans votre projet : dist/*whl\n",
    "6. Installez le package : pip install dist\\linear_regression-0.1.0-py3-none-any.whl --force-reinstall\n",
    "\n",
    "7. Répetez les étapes 4 à 6 à chaque fois que vous modifiez le code source du package.\n",
    "\n",
    "# Avantages\n",
    "\n",
    "1. Meilleure organisation de votre code\n",
    "2. Meilleure portabilité du code \n",
    "3. Utilisation plus simple dans un environnement cloud\n",
    "\n"
   ]
  },
  {
   "cell_type": "code",
   "execution_count": 2,
   "metadata": {},
   "outputs": [],
   "source": [
    "# reload auto reloads the module\n",
    "%reload_ext autoreload\n",
    "%autoreload 2"
   ]
  },
  {
   "cell_type": "code",
   "execution_count": 7,
   "metadata": {},
   "outputs": [],
   "source": [
    "from LinearRegression.utils import  addition\n",
    "from LinearRegression.config import N_ITER"
   ]
  },
  {
   "cell_type": "code",
   "execution_count": 6,
   "metadata": {},
   "outputs": [
    {
     "data": {
      "text/plain": [
       "3"
      ]
     },
     "execution_count": 6,
     "metadata": {},
     "output_type": "execute_result"
    }
   ],
   "source": [
    "addition(1,2)"
   ]
  },
  {
   "cell_type": "code",
   "execution_count": 9,
   "metadata": {},
   "outputs": [
    {
     "name": "stdout",
     "output_type": "stream",
     "text": [
      "50\n"
     ]
    }
   ],
   "source": [
    "print(N_ITER)"
   ]
  },
  {
   "cell_type": "code",
   "execution_count": null,
   "metadata": {},
   "outputs": [],
   "source": []
  }
 ],
 "metadata": {
  "kernelspec": {
   "display_name": "nkobo",
   "language": "python",
   "name": "python3"
  },
  "language_info": {
   "codemirror_mode": {
    "name": "ipython",
    "version": 3
   },
   "file_extension": ".py",
   "mimetype": "text/x-python",
   "name": "python",
   "nbconvert_exporter": "python",
   "pygments_lexer": "ipython3",
   "version": "3.12.5"
  }
 },
 "nbformat": 4,
 "nbformat_minor": 2
}
